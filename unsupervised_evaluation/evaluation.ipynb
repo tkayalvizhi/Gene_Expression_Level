{
 "cells": [
  {
   "cell_type": "code",
   "execution_count": 1,
   "id": "1cee3ec5",
   "metadata": {},
   "outputs": [],
   "source": [
    "# imports\n",
    "\n",
    "import numpy as np\n",
    "import pandas as pd\n",
    "from sklearn.decomposition import PCA\n",
    "from sklearn.preprocessing import StandardScaler\n",
    "from sklearn.discriminant_analysis import LinearDiscriminantAnalysis as LDA\n",
    "from sklearn.manifold import MDS, TSNE\n",
    "from sklearn.cluster import KMeans\n",
    "import matplotlib.pyplot as plt\n",
    "\n",
    "plot_style = {\n",
    "    # For latex-quality, i.e., publication quality legends and labels on graphs.\n",
    "    # Warning: you must have installed LaTeX on your system. Else set it to False.\n",
    "    \"text.usetex\": True, \n",
    "    \n",
    "    # configure fonts\n",
    "    \"font.size\":12,             # default font size\n",
    "    \"font.family\":'serif',\n",
    "    \"legend.fontsize\": 10,\n",
    "    \"axes.labelsize\": 12,\n",
    "    \"axes.titlesize\":14,\n",
    "    \"xtick.labelsize\" : 8,\n",
    "    \"ytick.labelsize\" : 8,\n",
    "    \n",
    "    # configure figure\n",
    "    \"figure.dpi\": 144,\n",
    "    \"figure.figsize\":'10,5',\n",
    "    \"figure.titlesize\":14\n",
    "}\n",
    "\n",
    "from sklearn.linear_model import LogisticRegression\n",
    "from sklearn.metrics import confusion_matrix, accuracy_score"
   ]
  },
  {
   "cell_type": "code",
   "execution_count": 2,
   "id": "07627339",
   "metadata": {},
   "outputs": [],
   "source": [
    "X_train = np.load('X_train.npy')\n",
    "X_test = np.load('X_test.npy')\n",
    "y_train = np.load('y_train.npy')\n",
    "y_test = np.load('y_test.npy')"
   ]
  },
  {
   "cell_type": "code",
   "execution_count": 3,
   "id": "06fda52d",
   "metadata": {},
   "outputs": [],
   "source": [
    "n, d = X_train.shape"
   ]
  },
  {
   "cell_type": "code",
   "execution_count": 4,
   "id": "17ff5810",
   "metadata": {},
   "outputs": [
    {
     "data": {
      "text/plain": [
       "(1108, 20000)"
      ]
     },
     "execution_count": 4,
     "metadata": {},
     "output_type": "execute_result"
    }
   ],
   "source": [
    "X_test.shape"
   ]
  },
  {
   "cell_type": "code",
   "execution_count": 5,
   "id": "d56bda2f",
   "metadata": {},
   "outputs": [],
   "source": [
    "features_by_max = np.load('features_by_max_fully_trained.npy')"
   ]
  },
  {
   "cell_type": "code",
   "execution_count": 6,
   "id": "c96c0eb0",
   "metadata": {},
   "outputs": [],
   "source": [
    "X_train = np.log2(X_train+1)\n",
    "X_test = np.log2(X_test+1)"
   ]
  },
  {
   "cell_type": "code",
   "execution_count": 7,
   "id": "f6e0211b",
   "metadata": {},
   "outputs": [
    {
     "data": {
      "text/plain": [
       "array([16631, 11217, 12699,  8543, 19288,  8759, 17020, 16916, 18292,\n",
       "       13877, 16039, 10886, 16385,  2712, 15682, 18178,  5048,  7206,\n",
       "       12927, 18000, 13890, 13683, 16531, 11774, 19005, 13054, 18500,\n",
       "       18850, 12448, 13260, 16928,  3271, 15617,  8127, 14278, 14664,\n",
       "       15235, 13065, 19712, 15533, 13939,  5057, 18885, 16606,  6366,\n",
       "       14306,  9417, 16509,  8804, 15859, 10109,  5549, 18253,  3328,\n",
       "        9619, 12784, 13671, 18788,  3373, 18510, 18896, 11218,  5092,\n",
       "        9530, 12027, 15632, 14852,  9652, 19401,  5686, 12629,  9912,\n",
       "        5412, 10486,  3453,  9725, 15676, 19085, 14702, 13047, 14039,\n",
       "       12518,  6854,  7379, 11011, 18809, 11759, 18317,  2000,  9076,\n",
       "       18572, 11933,  5034, 14675, 16053, 16014,  5834, 15129,  5062,\n",
       "        7380], dtype=int64)"
      ]
     },
     "execution_count": 7,
     "metadata": {},
     "output_type": "execute_result"
    }
   ],
   "source": [
    "features_by_max"
   ]
  },
  {
   "cell_type": "code",
   "execution_count": 8,
   "id": "3ce3fdd4",
   "metadata": {},
   "outputs": [
    {
     "data": {
      "text/plain": [
       "array([ 0,  1,  2,  3,  4,  5,  6,  7,  8,  9, 10, 11, 12, 13, 14, 15, 16,\n",
       "       17, 18, 19, 20, 21, 22, 23, 24, 25, 26, 27, 28, 29, 30, 31, 32, 33,\n",
       "       34, 35], dtype=int64)"
      ]
     },
     "execution_count": 8,
     "metadata": {},
     "output_type": "execute_result"
    }
   ],
   "source": [
    "np.unique(y_test)"
   ]
  },
  {
   "cell_type": "code",
   "execution_count": 9,
   "id": "87d6dc48",
   "metadata": {},
   "outputs": [],
   "source": [
    "X_red_train = X_train[:, features_by_max ]\n",
    "X_red_test = X_test[:, features_by_max ]"
   ]
  },
  {
   "cell_type": "code",
   "execution_count": 28,
   "id": "6b63ff44",
   "metadata": {},
   "outputs": [],
   "source": [
    "score = {\n",
    "    'train':[],\n",
    "    'test':[]\n",
    "}"
   ]
  },
  {
   "cell_type": "code",
   "execution_count": 29,
   "id": "85cc155b",
   "metadata": {},
   "outputs": [
    {
     "data": {
      "text/plain": [
       "{'train': [0.95822], 'test': [0.86282]}"
      ]
     },
     "execution_count": 29,
     "metadata": {},
     "output_type": "execute_result"
    }
   ],
   "source": [
    "model = LogisticRegression(penalty='l1',\n",
    "                            C=0.1,  \n",
    "                            solver='liblinear',  \n",
    "                            multi_class='ovr')\n",
    "\n",
    "model.fit(X_red_train, y_train)\n",
    "y_pred = model.predict(X_red_test)\n",
    "score['test'].append(round(accuracy_score(y_test, y_pred), 5))\n",
    "score['train'].append(round(accuracy_score(y_train, model.predict(X_red_train)), 5))\n",
    "score"
   ]
  },
  {
   "cell_type": "code",
   "execution_count": 44,
   "id": "20eef2c2",
   "metadata": {},
   "outputs": [
    {
     "data": {
      "text/plain": [
       "0.13718"
      ]
     },
     "execution_count": 44,
     "metadata": {},
     "output_type": "execute_result"
    }
   ],
   "source": [
    "round(1 - 0.86282, 5)"
   ]
  },
  {
   "cell_type": "code",
   "execution_count": 31,
   "id": "cbca2dce",
   "metadata": {},
   "outputs": [],
   "source": [
    "features_hv_idx = pd.Series(np.var(X_train, axis=0)).sort_values(ascending=False).index[:100]\n",
    "X_hv_train = X_train[:, features_hv_idx ]\n",
    "X_hv_test = X_test[:, features_hv_idx ]"
   ]
  },
  {
   "cell_type": "code",
   "execution_count": 32,
   "id": "39ae3bfa",
   "metadata": {},
   "outputs": [],
   "source": [
    "features_selected = pd.Series(np.var(X_train, axis=0))[features_by_max]\n",
    "features_hv = pd.Series(np.var(X_train, axis=0)).sort_values(ascending=False)[:100]"
   ]
  },
  {
   "cell_type": "code",
   "execution_count": 33,
   "id": "909cc0b3",
   "metadata": {},
   "outputs": [
    {
     "data": {
      "text/plain": [
       "(100,)"
      ]
     },
     "execution_count": 33,
     "metadata": {},
     "output_type": "execute_result"
    }
   ],
   "source": [
    "features_selected.shape"
   ]
  },
  {
   "cell_type": "code",
   "execution_count": 34,
   "id": "bd547ca2",
   "metadata": {},
   "outputs": [
    {
     "data": {
      "text/plain": [
       "(100,)"
      ]
     },
     "execution_count": 34,
     "metadata": {},
     "output_type": "execute_result"
    }
   ],
   "source": [
    "features_hv.shape"
   ]
  },
  {
   "cell_type": "code",
   "execution_count": 35,
   "id": "ddfdd217",
   "metadata": {},
   "outputs": [
    {
     "data": {
      "image/png": "[encoded data removed]",
      "text/plain": [
       "<Figure size 720x576 with 1 Axes>"
      ]
     },
     "metadata": {},
     "output_type": "display_data"
    }
   ],
   "source": [
    "plot_style[\"figure.figsize\"] = '5, 4'\n",
    "plt.style.use ('ggplot')                      # emulate ggplot style\n",
    "plt.rcParams.update(plot_style)\n",
    "\n",
    "plt.hist(features_selected, alpha=0.5, bins=15, label='selected features', edgecolor='white', density=True)\n",
    "plt.hist(features_hv, alpha=0.5, bins=15, label='high variance features',  edgecolor='white', density=True)\n",
    "plt.xlabel('variance')\n",
    "plt.ylabel('frequency')\n",
    "\n",
    "\n",
    "plt.legend()\n",
    "plt.tight_layout();\n",
    "\n",
    "plt.savefig(f'selected_features_vs_high_variance_features.pdf')"
   ]
  },
  {
   "cell_type": "code",
   "execution_count": 36,
   "id": "277ec938",
   "metadata": {},
   "outputs": [
    {
     "data": {
      "text/plain": [
       "(11.086624845046579, 32.13020959047491)"
      ]
     },
     "execution_count": 36,
     "metadata": {},
     "output_type": "execute_result"
    }
   ],
   "source": [
    "np.mean(features_selected), np.var(features_selected)\n"
   ]
  },
  {
   "cell_type": "code",
   "execution_count": 37,
   "id": "3eb112dc",
   "metadata": {},
   "outputs": [
    {
     "data": {
      "text/plain": [
       "(15.57274070755084, 12.385833302493788)"
      ]
     },
     "execution_count": 37,
     "metadata": {},
     "output_type": "execute_result"
    }
   ],
   "source": [
    "np.mean(features_hv), np.var(features_hv)"
   ]
  },
  {
   "cell_type": "code",
   "execution_count": 38,
   "id": "39e9cff1",
   "metadata": {},
   "outputs": [
    {
     "data": {
      "text/plain": [
       "0.9805"
      ]
     },
     "execution_count": 38,
     "metadata": {},
     "output_type": "execute_result"
    }
   ],
   "source": [
    "model = LogisticRegression(penalty='l1',\n",
    "                            C=0.1,  \n",
    "                            solver='liblinear',  \n",
    "                            multi_class='ovr')\n",
    "\n",
    "model.fit(X_hv_train, y_train)\n",
    "y_pred = model.predict(X_hv_test)\n",
    "accuracy_hv = accuracy_score(y_test, y_pred)\n",
    "round(1 - accuracy_hv, 5)\n",
    "\n",
    "train_accuracy = accuracy_score(y_train, model.predict(X_hv_train))\n",
    "round(train_accuracy, 5)"
   ]
  },
  {
   "cell_type": "code",
   "execution_count": 39,
   "id": "08f4d008",
   "metadata": {},
   "outputs": [],
   "source": [
    "features_rand_idx = np.random.randint(0, d, 100)\n",
    "\n",
    "X_rand_train = X_train[:, features_rand_idx ]\n",
    "X_rand_test = X_test[:, features_rand_idx ]"
   ]
  },
  {
   "cell_type": "code",
   "execution_count": 40,
   "id": "c6ec7bcf",
   "metadata": {},
   "outputs": [
    {
     "data": {
      "text/plain": [
       "0.72981"
      ]
     },
     "execution_count": 40,
     "metadata": {},
     "output_type": "execute_result"
    }
   ],
   "source": [
    "model = LogisticRegression(penalty='l1',\n",
    "                            C=0.1,  \n",
    "                            solver='liblinear',  \n",
    "                            multi_class='ovr')\n",
    "\n",
    "model.fit(X_rand_train, y_train)\n",
    "y_pred = model.predict(X_rand_test)\n",
    "accuracy_rand = accuracy_score(y_test, y_pred)\n",
    "round(1-accuracy_rand, 5)\n",
    "\n",
    "\n",
    "train_accuracy = accuracy_score(y_train, model.predict(X_rand_train))\n",
    "round(train_accuracy, 5)"
   ]
  },
  {
   "cell_type": "code",
   "execution_count": 42,
   "id": "730ed210",
   "metadata": {},
   "outputs": [
    {
     "data": {
      "image/png": "[encoded data removed]",
      "text/plain": [
       "<Figure size 720x576 with 1 Axes>"
      ]
     },
     "metadata": {},
     "output_type": "display_data"
    }
   ],
   "source": [
    "plt.bar([1, 2, 3], [score['test'][0], 0.90884, 0.31588], width=0.25, label='test accuracy',  )\n",
    "plt.bar([1.25, 2.25, 3.25], [score['train'][0], 0.9805, 0.40204], width=0.25, label='train accuracy' )\n",
    "plt.xticks([1.125, 2.125, 3.125], ['Selected', 'Highest Variance', 'Random'])\n",
    "plt.legend()\n",
    "plt.ylabel('Accuracy')\n",
    "plt.tight_layout();\n",
    "\n",
    "plt.savefig(f'feature_performace_comparison_barplot.pdf')"
   ]
  },
  {
   "cell_type": "code",
   "execution_count": null,
   "id": "ab4ed995",
   "metadata": {},
   "outputs": [],
   "source": [
    " "
   ]
  }
 ],
 "metadata": {
  "kernelspec": {
   "display_name": "Python 3 (ipykernel)",
   "language": "python",
   "name": "python3"
  },
  "language_info": {
   "codemirror_mode": {
    "name": "ipython",
    "version": 3
   },
   "file_extension": ".py",
   "mimetype": "text/x-python",
   "name": "python",
   "nbconvert_exporter": "python",
   "pygments_lexer": "ipython3",
   "version": "3.8.13"
  },
  "toc": {
   "base_numbering": 1,
   "nav_menu": {},
   "number_sections": true,
   "sideBar": true,
   "skip_h1_title": false,
   "title_cell": "Table of Contents",
   "title_sidebar": "Contents",
   "toc_cell": false,
   "toc_position": {},
   "toc_section_display": true,
   "toc_window_display": false
  }
 },
 "nbformat": 4,
 "nbformat_minor": 5
}
